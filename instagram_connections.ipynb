{
 "cells": [
  {
   "cell_type": "markdown",
   "id": "da6fd20d-7bdb-4d13-b2d4-d4d6427cee5b",
   "metadata": {},
   "source": [
    "### Instagram followers/following analysis\n",
    "\n",
    "This code tells you who follows you back, who doesn't follow you back, and who you don't follow back\n",
    "\n",
    "Delete the #s to reveal the lists! \n",
    "\n",
    "You can also search for the status of individual usernames in the last cell."
   ]
  },
  {
   "cell_type": "code",
   "execution_count": null,
   "id": "10cfb6b5-5c72-4594-ae42-a09991feafca",
   "metadata": {},
   "outputs": [],
   "source": [
    "import pandas as pd"
   ]
  },
  {
   "cell_type": "code",
   "execution_count": null,
   "id": "31ff7a16-ad18-4dc7-80a3-59cc0458b09b",
   "metadata": {},
   "outputs": [],
   "source": [
    "followers_path = 'INSERT FOLLOWERS JSON PATHWAY HERE'\n",
    "following_path = 'INSERT FOLLOWING JSON PATHWAY HERE'"
   ]
  },
  {
   "cell_type": "code",
   "execution_count": null,
   "id": "293d648c-ace7-4133-b80b-ecc46d0086f6",
   "metadata": {},
   "outputs": [],
   "source": [
    "followers_df = pd.read_json(followers_path)\n",
    "following_df = pd.read_json(following_path)"
   ]
  },
  {
   "cell_type": "code",
   "execution_count": null,
   "id": "542cb77d-8c90-491c-b7b1-7fec16ae104b",
   "metadata": {},
   "outputs": [],
   "source": [
    "followers = [item[0]['value'] for item in followers_df['string_list_data']]\n",
    "# followers"
   ]
  },
  {
   "cell_type": "code",
   "execution_count": null,
   "id": "f0ade9eb-6f63-43a8-915f-5607015d727b",
   "metadata": {},
   "outputs": [],
   "source": [
    "following = [item['string_list_data'][0]['value'] for item in following_df['relationships_following']]\n",
    "# following"
   ]
  },
  {
   "cell_type": "markdown",
   "id": "8047d74e-f0a9-44b4-b6fb-5b834a13c030",
   "metadata": {},
   "source": [
    "People I follow that follow me back"
   ]
  },
  {
   "cell_type": "code",
   "execution_count": null,
   "id": "dab738a3-33f8-4dfb-972b-b64a09cd4c60",
   "metadata": {
    "scrolled": true
   },
   "outputs": [],
   "source": [
    "good_ppl = [item for item in following if item in followers]\n",
    "# good_ppl"
   ]
  },
  {
   "cell_type": "markdown",
   "id": "5c74516f-3606-4c88-b15d-c8adc042d8a8",
   "metadata": {},
   "source": [
    "People I follow that don't follow me back"
   ]
  },
  {
   "cell_type": "code",
   "execution_count": null,
   "id": "f4d48504-922b-4c04-8432-4f0ca292ef08",
   "metadata": {
    "scrolled": true
   },
   "outputs": [],
   "source": [
    "opps = [item for item in following if item not in followers]\n",
    "# opps"
   ]
  },
  {
   "cell_type": "markdown",
   "id": "ab5062b4-39b7-408d-9e0e-377a1ab8f593",
   "metadata": {},
   "source": [
    "People I don't follow that follow me"
   ]
  },
  {
   "cell_type": "code",
   "execution_count": null,
   "id": "63f1bae2-7698-43a8-a942-bd291eea5f3b",
   "metadata": {
    "scrolled": true
   },
   "outputs": [],
   "source": [
    "my_bad = [item for item in followers if item not in following]\n",
    "# my_bad"
   ]
  },
  {
   "cell_type": "markdown",
   "id": "051880b9-5444-40c0-b6ad-d4af9b2678e9",
   "metadata": {},
   "source": [
    "Searching - getting status of individual usernames"
   ]
  },
  {
   "cell_type": "code",
   "execution_count": null,
   "id": "79ae05e3-f279-4ada-915b-2c63a81e5a70",
   "metadata": {},
   "outputs": [],
   "source": [
    "username = 'INSERT USERNAME HERE'\n",
    "\n",
    "if username in followers and username in following:\n",
    "    print(f'{username} in followers and following ✅')\n",
    "elif username in following and username not in followers:\n",
    "    print(f'{username} in following but not followers ❌')\n",
    "elif username in followers and username not in following:\n",
    "    print(f'{username} in followers but not following 🤷‍♀️')\n",
    "else:\n",
    "    print(f'{username} not found in followers or following 👻')"
   ]
  },
  {
   "cell_type": "code",
   "execution_count": null,
   "id": "7e3c16a3-4bef-41c0-ac87-2eb59f05c990",
   "metadata": {},
   "outputs": [],
   "source": []
  }
 ],
 "metadata": {
  "kernelspec": {
   "display_name": "Python [conda env:base] *",
   "language": "python",
   "name": "conda-base-py"
  },
  "language_info": {
   "codemirror_mode": {
    "name": "ipython",
    "version": 3
   },
   "file_extension": ".py",
   "mimetype": "text/x-python",
   "name": "python",
   "nbconvert_exporter": "python",
   "pygments_lexer": "ipython3",
   "version": "3.12.7"
  }
 },
 "nbformat": 4,
 "nbformat_minor": 5
}
